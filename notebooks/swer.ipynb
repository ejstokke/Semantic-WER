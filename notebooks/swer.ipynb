{
 "cells": [
  {
   "cell_type": "code",
   "execution_count": 3,
   "metadata": {},
   "outputs": [],
   "source": [
    "import json\n",
    "from typing import List\n",
    "import random\n",
    "from transformers import BertTokenizer, BertModel, pipeline\n",
    "from scipy.spatial import distance\n",
    "import os\n",
    "os.environ[\"HF_ENDPOINT\"] = \"https://huggingface.co\""
   ]
  },
  {
   "attachments": {},
   "cell_type": "markdown",
   "metadata": {},
   "source": [
    "# Loading data"
   ]
  },
  {
   "cell_type": "code",
   "execution_count": 4,
   "metadata": {},
   "outputs": [],
   "source": [
    "def read_json(file_path):\n",
    "    with open(file_path, encoding='utf-8') as f:\n",
    "        data = json.load(f)\n",
    "    return data"
   ]
  },
  {
   "cell_type": "code",
   "execution_count": 5,
   "metadata": {},
   "outputs": [],
   "source": [
    "FILE_PATH = '..\\\\Data\\\\aligned\\\\20170207_test_alignment.json'\n",
    "data = read_json(FILE_PATH)"
   ]
  },
  {
   "attachments": {},
   "cell_type": "markdown",
   "metadata": {},
   "source": [
    "# Dividing the alignments into sentences"
   ]
  },
  {
   "cell_type": "code",
   "execution_count": 6,
   "metadata": {},
   "outputs": [],
   "source": [
    "def alignments_to_sentences(alignments: List[List[str]]):\n",
    "    all_sentences = []\n",
    "    new_sent_transcript, new_sent_gold_label = [], []\n",
    "    for alignment in alignments:\n",
    "        new_sent_transcript.append(alignment[0])\n",
    "        new_sent_gold_label.append(alignment[1])\n",
    "        if alignment[0] in ['.', '!', '?']:\n",
    "            all_sentences.append([new_sent_transcript, new_sent_gold_label])\n",
    "            new_sent_transcript, new_sent_gold_label = [], []\n",
    "    return all_sentences"
   ]
  },
  {
   "cell_type": "code",
   "execution_count": 7,
   "metadata": {},
   "outputs": [
    {
     "name": "stdout",
     "output_type": "stream",
     "text": [
      "[['Ketil', 'kjenseth', 'vær', 'så', 'god', '.'], ['Ketil', 'Kjenseth', 'vær', 'så', 'god', '.']]\n"
     ]
    }
   ],
   "source": [
    "sentences = alignments_to_sentences(alignments=data)\n",
    "print(sentences[15])"
   ]
  },
  {
   "attachments": {},
   "cell_type": "markdown",
   "metadata": {},
   "source": [
    "# Two approaches for SWER\n",
    "## Approach 1\n",
    "Function that receives BERT tokenizer & model as input and returns embeddings\n",
    "\n",
    "Challenges:\n",
    " - Cosine distance between similar words\n",
    " - What to do with [CLS] and [SEP] tokens\n",
    "\n",
    "## Approach 2\n",
    "Function that receives huggingface feature-extractor pipeline as input\n",
    "\n",
    "Challenges:\n",
    " - Normalize SWER(?)"
   ]
  },
  {
   "cell_type": "code",
   "execution_count": 8,
   "metadata": {},
   "outputs": [],
   "source": [
    "def get_model_and_tokenizer(bert_model):\n",
    "    tokenizer = BertTokenizer.from_pretrained(bert_model)\n",
    "    model = BertModel.from_pretrained(bert_model)\n",
    "    return model, tokenizer\n",
    "\n",
    "\n",
    "def list_to_bert_embeddings(words_list, model, tokenizer):\n",
    "    input_ids = tokenizer.encode(words_list, return_tensors='pt')\n",
    "    output = model(input_ids)\n",
    "    embeddings = output[0][0, :, :]\n",
    "    return embeddings\n",
    "\n",
    "def equalize_lists(list1, list2):\n",
    "    if len(list1) < len(list2):\n",
    "        list1 += [''] * (len(list2) - len(list1))\n",
    "    elif len(list2) < len(list1):\n",
    "        list2 += [''] * (len(list1) - len(list2))\n",
    "    return list1, list2\n",
    "\n",
    "def wer(sent1: List[str], sent2: List[str], case_sensitive=True):\n",
    "    if not len(sent1) == len(sent2):\n",
    "        sent1, sent2 = equalize_lists(sent1, sent2)\n",
    "\n",
    "    errors = 0\n",
    "    for w1, w2 in zip(sent1, sent2):\n",
    "        if case_sensitive:\n",
    "            if w1 != w2:\n",
    "                errors += 1\n",
    "        else:\n",
    "            if w1.lower() != w2.lower():\n",
    "                errors += 1\n",
    "    return errors / len(sent1)\n",
    "\n",
    "\n",
    "def swer(pipe: pipeline, sent1: List[str], sent2: List[str], case_insensitive=False):\n",
    "    # Implement some kind of weight / factor?\n",
    "    if not len(sent1) == len(sent2):\n",
    "        sent1, sent2 = equalize_lists(sent1, sent2)\n",
    "        \n",
    "    if case_insensitive:\n",
    "        sent1 = [word.lower() for word in sent1]\n",
    "        sent2 = [word.lower() for word in sent2]\n",
    "\n",
    "    embeddings1, embeddings2 = pipe(sent1), pipe(sent2)\n",
    "    cosine_distance = 0\n",
    "    for e1, e2 in zip(embeddings1, embeddings2):\n",
    "        cosine_distance += distance.cosine(e1[0][1], e2[0][1])\n",
    "    return cosine_distance / len(sent1)"
   ]
  },
  {
   "cell_type": "code",
   "execution_count": 9,
   "metadata": {},
   "outputs": [
    {
     "name": "stderr",
     "output_type": "stream",
     "text": [
      "Some weights of the model checkpoint at ltg/norbert were not used when initializing BertModel: ['cls.seq_relationship.bias', 'cls.seq_relationship.weight', 'cls.predictions.transform.LayerNorm.bias', 'cls.predictions.decoder.weight', 'cls.predictions.decoder.bias', 'cls.predictions.transform.dense.weight', 'cls.predictions.transform.LayerNorm.weight', 'cls.predictions.bias', 'cls.predictions.transform.dense.bias']\n",
      "- This IS expected if you are initializing BertModel from the checkpoint of a model trained on another task or with another architecture (e.g. initializing a BertForSequenceClassification model from a BertForPreTraining model).\n",
      "- This IS NOT expected if you are initializing BertModel from the checkpoint of a model that you expect to be exactly identical (initializing a BertForSequenceClassification model from a BertForSequenceClassification model).\n",
      "Some weights of the model checkpoint at ltgoslo/norbert2 were not used when initializing BertModel: ['cls.seq_relationship.bias', 'cls.seq_relationship.weight', 'cls.predictions.transform.LayerNorm.bias', 'cls.predictions.decoder.weight', 'cls.predictions.decoder.bias', 'cls.predictions.transform.dense.weight', 'cls.predictions.transform.LayerNorm.weight', 'cls.predictions.bias', 'cls.predictions.transform.dense.bias']\n",
      "- This IS expected if you are initializing BertModel from the checkpoint of a model trained on another task or with another architecture (e.g. initializing a BertForSequenceClassification model from a BertForPreTraining model).\n",
      "- This IS NOT expected if you are initializing BertModel from the checkpoint of a model that you expect to be exactly identical (initializing a BertForSequenceClassification model from a BertForSequenceClassification model).\n",
      "Some weights of the model checkpoint at NbAiLab/nb-bert-base were not used when initializing BertModel: ['cls.seq_relationship.bias', 'cls.seq_relationship.weight', 'cls.predictions.transform.LayerNorm.bias', 'cls.predictions.decoder.weight', 'cls.predictions.decoder.bias', 'cls.predictions.transform.dense.weight', 'cls.predictions.transform.LayerNorm.weight', 'cls.predictions.bias', 'cls.predictions.transform.dense.bias']\n",
      "- This IS expected if you are initializing BertModel from the checkpoint of a model trained on another task or with another architecture (e.g. initializing a BertForSequenceClassification model from a BertForPreTraining model).\n",
      "- This IS NOT expected if you are initializing BertModel from the checkpoint of a model that you expect to be exactly identical (initializing a BertForSequenceClassification model from a BertForSequenceClassification model).\n"
     ]
    }
   ],
   "source": [
    "# model, tokenizer = get_model_and_tokenizer(MODEL_NAMES[0])\n",
    "MODEL_NAMES = ['ltg/norbert', 'ltgoslo/norbert2', 'NbAiLab/nb-bert-base']\n",
    "norbert = pipeline('feature-extraction', model=MODEL_NAMES[0], tokenizer=MODEL_NAMES[0])\n",
    "norbert2 = pipeline('feature-extraction', model=MODEL_NAMES[1], tokenizer=MODEL_NAMES[1])\n",
    "nbbert = pipeline('feature-extraction', model=MODEL_NAMES[2], tokenizer=MODEL_NAMES[2])"
   ]
  },
  {
   "attachments": {},
   "cell_type": "markdown",
   "metadata": {},
   "source": [
    "# Experimenting\n",
    "## Trying the different models on random sentences"
   ]
  },
  {
   "cell_type": "code",
   "execution_count": 10,
   "metadata": {},
   "outputs": [
    {
     "name": "stdout",
     "output_type": "stream",
     "text": [
      "Transcript: Det opereres med ulike tall på forekomst av autisme , men cirka 1 % av befolkningen har autisme .\n",
      "Gold label det opereres med ulike tall på forekomst av autisme  men cirka én prosent av befolkningen har autisme .\n",
      "SWER: 0.06111547560772233\n",
      "Case-insensitive SWER 0.04279567725835959\n",
      "WER: 0.21052631578947367\n",
      "\n",
      "Transcript: Det opereres med ulike tall på forekomst av autisme , men cirka 1 % av befolkningen har autisme .\n",
      "Gold label det opereres med ulike tall på forekomst av autisme  men cirka én prosent av befolkningen har autisme .\n",
      "SWER: 0.10610398100711672\n",
      "Case-insensitive SWER 0.0933159225159585\n",
      "WER: 0.21052631578947367\n",
      "\n",
      "Transcript: Det opereres med ulike tall på forekomst av autisme , men cirka 1 % av befolkningen har autisme .\n",
      "Gold label det opereres med ulike tall på forekomst av autisme  men cirka én prosent av befolkningen har autisme .\n",
      "SWER: 0.0967281792027272\n",
      "Case-insensitive SWER 0.0850172181333037\n",
      "WER: 0.21052631578947367\n",
      "\n"
     ]
    }
   ],
   "source": [
    "example_sentences = sentences[19:20]\n",
    "\n",
    "def test_swer(pipe: pipeline, sentences):\n",
    "    for sent in sentences:\n",
    "        print('Transcript:', ' '.join(sent[0]))\n",
    "        print('Gold label', ' '.join(sent[1]))\n",
    "        print('SWER:', swer(pipe, sent[0], sent[1]))\n",
    "        print('Case-insensitive SWER', swer(pipe, sent[0], sent[1], True))\n",
    "        print('WER:',wer(sent[0], sent[1]))\n",
    "        print()\n",
    "\n",
    "for model in [norbert, norbert2, nbbert]:\n",
    "    test_swer(model, example_sentences)\n",
    "    # print(example_sentences)"
   ]
  },
  {
   "attachments": {},
   "cell_type": "markdown",
   "metadata": {},
   "source": [
    "# Testing random sentences\n",
    "To compare the magnitude of SWER to WER"
   ]
  },
  {
   "cell_type": "code",
   "execution_count": 12,
   "metadata": {},
   "outputs": [
    {
     "name": "stdout",
     "output_type": "stream",
     "text": [
      "Transcript: Tjenestetilbudet innen helse og sosial utdanning og arbeid er ikke godt nok koordinert og tilgjengelighet og tilbudet varierer betydelig .\n",
      "Gold label Ja , hvordan sikrer vi da den kompetansen og den kapasiteten på dette området på det sykehuset som nå blir løfta fram som et godt eksempel ?\n",
      "SWER: 0.3646978197400938\n",
      "Case-insensitive SWER 0.36658150851450844\n",
      "WER: 1.0\n",
      "\n",
      "Transcript: viktige aktivitetene .\n",
      "Gold label Så er det også spørsmål om de nasjonale faglige retningslinjer som er utvikla blant annet på gjennom Helse Sør  Øst .\n",
      "SWER: 0.5835721080572281\n",
      "Case-insensitive SWER 0.5796693380077431\n",
      "WER: 0.9545454545454546\n",
      "\n",
      "Transcript: Det handler om foreldre til den krevinge krevende byttingen som ikke er kvarmanns gull , men som derfor trenger foreldrenes kjærlighet mer enn noe annet .\n",
      "Gold label kan begynne med \n",
      "SWER: 0.8593119046177862\n",
      "Case-insensitive SWER 0.8588774423574068\n",
      "WER: 1.0\n",
      "\n"
     ]
    }
   ],
   "source": [
    "def test_n_random_sents(n: int, pipe: pipeline):\n",
    "    sents = list()\n",
    "    for _ in range(n):\n",
    "        sent1 = random.sample(random.sample(sentences, 1)[0], 1)[0]\n",
    "        sent2 = random.sample(random.sample(sentences, 1)[0], 1)[0]\n",
    "        sents.append([sent1, sent2])\n",
    "    test_swer(pipe, sents)\n",
    "\n",
    "for model in [norbert, norbert2, nbbert]:\n",
    "    test_n_random_sents(1, model)\n"
   ]
  },
  {
   "cell_type": "code",
   "execution_count": 15,
   "metadata": {},
   "outputs": [
    {
     "name": "stdout",
     "output_type": "stream",
     "text": [
      "[0.08258229564423086, 0.10881143033342609, 0.12577855908412405]\n"
     ]
    }
   ],
   "source": [
    "model_scores = []\n",
    "for model in [norbert, norbert2, nbbert]:\n",
    "    swer_scores = [swer(model, sent[0], sent[1])  for sent in sentences]\n",
    "    model_scores.append(sum(swer_scores) / len(swer_scores))\n",
    "\n",
    "print(model_scores)"
   ]
  },
  {
   "cell_type": "code",
   "execution_count": 16,
   "metadata": {},
   "outputs": [
    {
     "name": "stdout",
     "output_type": "stream",
     "text": [
      "[0.08258229564423086, 0.10881143033342609, 0.12577855908412405]\n"
     ]
    }
   ],
   "source": [
    "model_scores_case_insensitive = []\n",
    "for model in [norbert, norbert2, nbbert]:\n",
    "    swer_scores = [swer(model, sent[0], sent[1])  for sent in sentences]\n",
    "    model_scores_case_insensitive.append(sum(swer_scores) / len(swer_scores))\n",
    "\n",
    "print(model_scores_case_insensitive)"
   ]
  }
 ],
 "metadata": {
  "kernelspec": {
   "display_name": "Python 3.9.6 64-bit",
   "language": "python",
   "name": "python3"
  },
  "language_info": {
   "codemirror_mode": {
    "name": "ipython",
    "version": 3
   },
   "file_extension": ".py",
   "mimetype": "text/x-python",
   "name": "python",
   "nbconvert_exporter": "python",
   "pygments_lexer": "ipython3",
   "version": "3.9.6"
  },
  "orig_nbformat": 4,
  "vscode": {
   "interpreter": {
    "hash": "8943561a3ff414a8cd96db279e20b39b359ac4895f55aff2809dddc7a4c6a548"
   }
  }
 },
 "nbformat": 4,
 "nbformat_minor": 2
}
