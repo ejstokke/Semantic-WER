{
 "cells": [
  {
   "cell_type": "code",
   "execution_count": 2,
   "metadata": {},
   "outputs": [],
   "source": [
    "import json\n",
    "from typing import List\n",
    "from transformers import BertTokenizer, BertModel, pipeline\n",
    "from scipy.spatial import distance"
   ]
  },
  {
   "attachments": {},
   "cell_type": "markdown",
   "metadata": {},
   "source": [
    "# Loading data"
   ]
  },
  {
   "cell_type": "code",
   "execution_count": 3,
   "metadata": {},
   "outputs": [],
   "source": [
    "def read_json(file_path):\n",
    "    with open(file_path, encoding='utf-8') as f:\n",
    "        data = json.load(f)\n",
    "    return data"
   ]
  },
  {
   "cell_type": "code",
   "execution_count": 20,
   "metadata": {},
   "outputs": [],
   "source": [
    "FILE_PATH = '..\\\\Data\\\\aligned\\\\20170207_test_alignment.json'\n",
    "data = read_json(FILE_PATH)"
   ]
  },
  {
   "attachments": {},
   "cell_type": "markdown",
   "metadata": {},
   "source": [
    "# Dividing the alignments into sentences"
   ]
  },
  {
   "cell_type": "code",
   "execution_count": 21,
   "metadata": {},
   "outputs": [],
   "source": [
    "def alignments_to_sentences(alignments: List[List[str]]):\n",
    "    all_sentences = []\n",
    "    new_sent_transcript, new_sent_gold_label = [], []\n",
    "    for alignment in alignments:\n",
    "        new_sent_transcript.append(alignment[0])\n",
    "        new_sent_gold_label.append(alignment[1])\n",
    "        if alignment[0] in ['.', '!', '?']:\n",
    "            all_sentences.append([new_sent_transcript, new_sent_gold_label])\n",
    "            new_sent_transcript, new_sent_gold_label = [], []\n",
    "    return all_sentences"
   ]
  },
  {
   "cell_type": "code",
   "execution_count": 22,
   "metadata": {},
   "outputs": [
    {
     "name": "stdout",
     "output_type": "stream",
     "text": [
      "[['Ketil', 'kjenseth', 'vær', 'så', 'god', '.'], ['Ketil', 'Kjenseth', 'vær', 'så', 'god', '.']]\n"
     ]
    }
   ],
   "source": [
    "sentences = alignments_to_sentences(alignments=data)\n",
    "print(sentences[15])"
   ]
  },
  {
   "attachments": {},
   "cell_type": "markdown",
   "metadata": {},
   "source": [
    "# Two approaches for SWER\n",
    "## Approach 1\n",
    "Function that receives BERT tokenizer & model as input and returns embeddings\n",
    "\n",
    "Challenges:\n",
    " - Cosine distance between similar words\n",
    " - What to do with [CLS] and [SEP] tokens\n",
    "\n",
    "## Approach 2\n",
    "Function that receives huggingface feature-extractor pipeline as input\n",
    "\n",
    "Challenges:\n",
    " - Normalize SWER(?)"
   ]
  },
  {
   "cell_type": "code",
   "execution_count": 12,
   "metadata": {},
   "outputs": [],
   "source": [
    "def get_model_and_tokenizer(bert_model):\n",
    "    tokenizer = BertTokenizer.from_pretrained(bert_model)\n",
    "    model = BertModel.from_pretrained(bert_model)\n",
    "    return model, tokenizer\n",
    "\n",
    "\n",
    "def list_to_bert_embeddings(words_list, model, tokenizer):\n",
    "    input_ids = tokenizer.encode(words_list, return_tensors='pt')\n",
    "    output = model(input_ids)\n",
    "    embeddings = output[0][0, :, :]\n",
    "    return embeddings\n",
    "\n",
    "\n",
    "def wer(sent1: List[str], sent2: List[str], case_sensitive=True):\n",
    "    assert len(sent1) == len(sent2)\n",
    "    errors = 0\n",
    "    for w1, w2 in zip(sent1, sent2):\n",
    "        if case_sensitive:\n",
    "            if w1 != w2:\n",
    "                errors += 1\n",
    "        else:\n",
    "            if w1.lower() != w2.lower():\n",
    "                errors += 1\n",
    "    return errors / len(sent1)\n",
    "\n",
    "\n",
    "def swer(pipe: pipeline, sent1: List[str], sent2: List[str], case_sensitive=True):\n",
    "    # Implement some kind of weight / factor?\n",
    "    # Add option for case sensitivity\n",
    "    embeddings1, embeddings2 = pipe(sent1), pipe(sent2)\n",
    "    cosine_distance = 0\n",
    "    for e1, e2 in zip(embeddings1, embeddings2):\n",
    "        cosine_distance += distance.cosine(e1[0][1], e2[0][1])\n",
    "    return cosine_distance / len(sent1)"
   ]
  },
  {
   "cell_type": "code",
   "execution_count": 8,
   "metadata": {},
   "outputs": [
    {
     "name": "stderr",
     "output_type": "stream",
     "text": [
      "Some weights of the model checkpoint at ltgoslo/norbert2 were not used when initializing BertModel: ['cls.predictions.decoder.bias', 'cls.predictions.transform.dense.weight', 'cls.predictions.bias', 'cls.predictions.decoder.weight', 'cls.predictions.transform.LayerNorm.weight', 'cls.seq_relationship.weight', 'cls.predictions.transform.LayerNorm.bias', 'cls.predictions.transform.dense.bias', 'cls.seq_relationship.bias']\n",
      "- This IS expected if you are initializing BertModel from the checkpoint of a model trained on another task or with another architecture (e.g. initializing a BertForSequenceClassification model from a BertForPreTraining model).\n",
      "- This IS NOT expected if you are initializing BertModel from the checkpoint of a model that you expect to be exactly identical (initializing a BertForSequenceClassification model from a BertForSequenceClassification model).\n",
      "Some weights of the model checkpoint at ltgoslo/norbert2 were not used when initializing BertModel: ['cls.predictions.decoder.bias', 'cls.predictions.transform.dense.weight', 'cls.predictions.bias', 'cls.predictions.decoder.weight', 'cls.predictions.transform.LayerNorm.weight', 'cls.seq_relationship.weight', 'cls.predictions.transform.LayerNorm.bias', 'cls.predictions.transform.dense.bias', 'cls.seq_relationship.bias']\n",
      "- This IS expected if you are initializing BertModel from the checkpoint of a model trained on another task or with another architecture (e.g. initializing a BertForSequenceClassification model from a BertForPreTraining model).\n",
      "- This IS NOT expected if you are initializing BertModel from the checkpoint of a model that you expect to be exactly identical (initializing a BertForSequenceClassification model from a BertForSequenceClassification model).\n"
     ]
    }
   ],
   "source": [
    "MODEL_NAME = 'ltgoslo/norbert2'\n",
    "model, tokenizer = get_model_and_tokenizer(MODEL_NAME)\n",
    "pipe = pipeline('feature-extraction', model=MODEL_NAME, tokenizer=MODEL_NAME)\n"
   ]
  },
  {
   "cell_type": "code",
   "execution_count": 18,
   "metadata": {},
   "outputs": [
    {
     "name": "stdout",
     "output_type": "stream",
     "text": [
      "Transcript: Det er bra\n",
      "Gold label Det var bra\n",
      "SWER: 0.06289718300035559\n",
      "WER: 0.3333333333333333\n",
      "\n",
      "Transcript: hei på deg\n",
      "Gold label hvor er statsministeren\n",
      "SWER: 0.34909317233832926\n",
      "WER: 1.0\n",
      "\n",
      "Transcript: i går regnet det ikke i bergen\n",
      "Gold label i går regnet det igjen i bergen\n",
      "SWER: 0.04143750337862958\n",
      "WER: 0.14285714285714285\n",
      "\n"
     ]
    }
   ],
   "source": [
    "example_sentences = [\n",
    "    [['Det', 'er', 'bra'], ['Det', 'var', 'bra']],\n",
    "    [['hei', 'på', 'deg'], ['hvor', 'er', 'statsministeren']],\n",
    "    [['i', 'går', 'regnet', 'det', 'ikke', 'i', 'bergen'], ['i', 'går', 'regnet', 'det', 'igjen', 'i', 'bergen']],\n",
    "]\n",
    "\n",
    "for sent in example_sentences:\n",
    "    print('Transcript:', ' '.join(sent[0]))\n",
    "    print('Gold label', ' '.join(sent[1]))\n",
    "    print('SWER:', swer(pipe, sent[0], sent[1]))\n",
    "    print('WER:',wer(sent[0], sent[1]))\n",
    "    print()"
   ]
  },
  {
   "cell_type": "code",
   "execution_count": 146,
   "metadata": {},
   "outputs": [
    {
     "name": "stdout",
     "output_type": "stream",
     "text": [
      "0.09794670343399048\n",
      "0.07474690675735474\n",
      "0.33774852752685547\n",
      "0.09423786401748657\n",
      "0.09536200761795044\n",
      "0.04666769504547119\n",
      "0.10574841499328613\n",
      "0.04152554273605347\n"
     ]
    }
   ],
   "source": [
    "sent1 = ['Jeg', 'liker', 'været', 'i', 'Bergen', '.']\n",
    "sent2 = ['Jeg', 'hater', 'været', 'i', 'Bergen', '.']\n",
    "\n",
    "example_sentence = [sent1, sent2]\n",
    "embeddings_transcript = list_to_bert_embeddings(example_sentence[0], model, tokenizer)\n",
    "embeddings_goldlabel = list_to_bert_embeddings(example_sentence[1], model, tokenizer)\n",
    "\n",
    "for e1, e2 in zip(embeddings_transcript, embeddings_goldlabel):\n",
    "    e1, e2 = e1.detach().numpy(), e2.detach().numpy()\n",
    "    print(distance.cosine(e1, e2))"
   ]
  }
 ],
 "metadata": {
  "kernelspec": {
   "display_name": "Python 3.9.6 64-bit",
   "language": "python",
   "name": "python3"
  },
  "language_info": {
   "codemirror_mode": {
    "name": "ipython",
    "version": 3
   },
   "file_extension": ".py",
   "mimetype": "text/x-python",
   "name": "python",
   "nbconvert_exporter": "python",
   "pygments_lexer": "ipython3",
   "version": "3.9.6 (tags/v3.9.6:db3ff76, Jun 28 2021, 15:26:21) [MSC v.1929 64 bit (AMD64)]"
  },
  "orig_nbformat": 4,
  "vscode": {
   "interpreter": {
    "hash": "8943561a3ff414a8cd96db279e20b39b359ac4895f55aff2809dddc7a4c6a548"
   }
  }
 },
 "nbformat": 4,
 "nbformat_minor": 2
}
