{
 "cells": [
  {
   "cell_type": "code",
   "execution_count": 22,
   "metadata": {},
   "outputs": [],
   "source": [
    "import torch\n",
    "\n",
    "def predict_word_likelihood(sentence, word, model, tokenizer):\n",
    "    tokenized_text = tokenizer.tokenize(sentence)\n",
    "\n",
    "    # Mask the word we want to predict\n",
    "    masked_index = tokenized_text.index(word)\n",
    "    tokenized_text[masked_index] = '[MASK]'\n",
    "\n",
    "    # Convert tokenized text to BERT input format\n",
    "    indexed_tokens = tokenizer.convert_tokens_to_ids(tokenized_text)\n",
    "    segments_ids = [0] * len(tokenized_text)\n",
    "    tokens_tensor = torch.tensor([indexed_tokens])\n",
    "    segments_tensors = torch.tensor([segments_ids])\n",
    "\n",
    "    # Predict the likelihood of the word using BERT\n",
    "    with torch.no_grad():\n",
    "        outputs = model(tokens_tensor, token_type_ids=segments_tensors)\n",
    "        predictions = outputs[0]\n",
    "\n",
    "    # Get the likelihood of the word at the masked position\n",
    "    likelihood = predictions[0, masked_index, :]\n",
    "\n",
    "    # Convert likelihood to a probability distribution\n",
    "    likelihood = torch.softmax(likelihood, dim=0)\n",
    "    print(likelihood)\n",
    "\n",
    "      # Get the probability of the word\n",
    "    word_index = tokenizer.convert_tokens_to_ids([word])[0]\n",
    "    word_prob = likelihood[word_index].item()\n",
    "    \n",
    "    return word_prob"
   ]
  },
  {
   "cell_type": "code",
   "execution_count": 18,
   "metadata": {},
   "outputs": [
    {
     "name": "stderr",
     "output_type": "stream",
     "text": [
      "Some weights of the model checkpoint at ltgoslo/norbert were not used when initializing BertForMaskedLM: ['cls.seq_relationship.weight', 'cls.seq_relationship.bias']\n",
      "- This IS expected if you are initializing BertForMaskedLM from the checkpoint of a model trained on another task or with another architecture (e.g. initializing a BertForSequenceClassification model from a BertForPreTraining model).\n",
      "- This IS NOT expected if you are initializing BertForMaskedLM from the checkpoint of a model that you expect to be exactly identical (initializing a BertForSequenceClassification model from a BertForSequenceClassification model).\n"
     ]
    }
   ],
   "source": [
    "    # Load the BERT model\n",
    "from transformers import AutoTokenizer, AutoModelForMaskedLM\n",
    "\n",
    "tokenizer = AutoTokenizer.from_pretrained(\"ltgoslo/norbert\")\n",
    "\n",
    "model = AutoModelForMaskedLM.from_pretrained(\"ltgoslo/norbert\")"
   ]
  },
  {
   "cell_type": "code",
   "execution_count": 24,
   "metadata": {},
   "outputs": [
    {
     "name": "stdout",
     "output_type": "stream",
     "text": [
      "tensor([1.5384e-08, 2.9364e-08, 9.6249e-09,  ..., 1.1255e-08, 3.0849e-08,\n",
      "        3.6763e-07])\n",
      "0.07478123903274536\n"
     ]
    }
   ],
   "source": [
    "print(predict_word_likelihood('Jeg skal en rask tur på byen', 'byen', model, tokenizer))"
   ]
  },
  {
   "cell_type": "code",
   "execution_count": null,
   "metadata": {},
   "outputs": [],
   "source": []
  }
 ],
 "metadata": {
  "kernelspec": {
   "display_name": "Python 3.9.6 64-bit",
   "language": "python",
   "name": "python3"
  },
  "language_info": {
   "codemirror_mode": {
    "name": "ipython",
    "version": 3
   },
   "file_extension": ".py",
   "mimetype": "text/x-python",
   "name": "python",
   "nbconvert_exporter": "python",
   "pygments_lexer": "ipython3",
   "version": "3.9.6 (tags/v3.9.6:db3ff76, Jun 28 2021, 15:26:21) [MSC v.1929 64 bit (AMD64)]"
  },
  "orig_nbformat": 4,
  "vscode": {
   "interpreter": {
    "hash": "8943561a3ff414a8cd96db279e20b39b359ac4895f55aff2809dddc7a4c6a548"
   }
  }
 },
 "nbformat": 4,
 "nbformat_minor": 2
}
