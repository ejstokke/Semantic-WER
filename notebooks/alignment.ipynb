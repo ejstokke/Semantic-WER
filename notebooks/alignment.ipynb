{
 "cells": [
  {
   "cell_type": "code",
   "execution_count": 70,
   "metadata": {},
   "outputs": [],
   "source": [
    "# import difflib\n",
    "\n",
    "# def align_transcripts(transcript1, transcript2):\n",
    "#     words1 = transcript1.split()\n",
    "#     words2 = transcript2.split()\n",
    "#     # Use the difflib library to create a sequence matcher object\n",
    "#     matcher = difflib.SequenceMatcher(None, words1, words2)\n",
    "#     # Create an empty list to store the aligned transcripts\n",
    "#     aligned_transcripts = []\n",
    "#     for tag, i1, i2, j1, j2 in matcher.get_opcodes():\n",
    "#         if tag == 'equal':\n",
    "#             for i in range(i1,i2):\n",
    "#                 aligned_transcripts.append([words1[i], words2[i]])\n",
    "#         elif tag == 'replace':\n",
    "#             for i in range(i1,i2):\n",
    "#                 aligned_transcripts.append([words1[i], words2[i]])\n",
    "#         elif tag == 'delete':\n",
    "#             for i in range(i1,i2):\n",
    "#                 aligned_transcripts.append([words1[i], ''])\n",
    "#         elif tag == 'insert':\n",
    "#             for i in range(j1,j2):\n",
    "#                 aligned_transcripts.append(['', words2[i]])\n",
    "#     return aligned_transcripts"
   ]
  },
  {
   "cell_type": "code",
   "execution_count": 127,
   "metadata": {},
   "outputs": [],
   "source": [
    "import re\n",
    "import json\n",
    "import numpy as np"
   ]
  },
  {
   "attachments": {},
   "cell_type": "markdown",
   "metadata": {},
   "source": [
    "# Pre-processing functions"
   ]
  },
  {
   "cell_type": "code",
   "execution_count": 132,
   "metadata": {},
   "outputs": [],
   "source": [
    "def load_transcript(file_path):\n",
    "    with open(file_path, 'r', encoding='utf-8') as f:\n",
    "        content = f.readlines()\n",
    "    # Remove the first three lines (Microsoft timestamp)\n",
    "    content = content[3:]\n",
    "    return \"\".join(content)\n",
    "\n",
    "\n",
    "def remove_time_stamps(text):\n",
    "    return re.sub(r'\\[\\d{2}:\\d{2}:\\d{2}:\\d{2}\\]', '', text)\n",
    "\n",
    "\n",
    "def remove_words_in_angle_brackets(text):\n",
    "    # Removes the hesitations in angle brackets\n",
    "    return re.sub(r\"<\\w+>\", \"\", text)\n",
    "\n",
    "\n",
    "def replace_newlines(text):\n",
    "    # Replaces one or more \"\\n\" with a single space\n",
    "    text = re.sub(r'\\n+', ' ', text)\n",
    "    return text\n",
    "\n",
    "\n",
    "def npsc_json_to_bigdoc(file_path):\n",
    "     with open(file_path, 'r', encoding='utf-8') as f:\n",
    "        data = json.load(f)\n",
    "        sentences = [sentence['sentence_text'] for sentence in data['sentences']]\n",
    "        text = \". \".join(sentences)\n",
    "        return text\n",
    "\n",
    "\n",
    "def split_string(text):\n",
    "    # Simple tokenizer\n",
    "    # Splits a string into words and punctuation\n",
    "    words = re.findall(r'\\b\\w+\\b|[^\\w\\s]+', text)\n",
    "    return words\n",
    "\n",
    "def write_to_json(data, file_path):\n",
    "    with open(file_path, 'w', encoding='utf-8') as f:\n",
    "        json.dump(data, f, ensure_ascii=False)\n"
   ]
  },
  {
   "attachments": {},
   "cell_type": "markdown",
   "metadata": {},
   "source": [
    "# Needleman Wunsch Algorithm"
   ]
  },
  {
   "cell_type": "code",
   "execution_count": 131,
   "metadata": {},
   "outputs": [],
   "source": [
    "def align_lists(list1, list2):\n",
    "    # Create a matrix to store the alignment scores\n",
    "    matrix = np.zeros((len(list1) + 1, len(list2) + 1))\n",
    "    # Initialize the first row and column of the matrix with gap penalties\n",
    "    for i in range(1, len(list1) + 1):\n",
    "        matrix[i][0] = matrix[i-1][0] - 1\n",
    "    for j in range(1, len(list2) + 1):\n",
    "        matrix[0][j] = matrix[0][j-1] - 1\n",
    "    # Fill in the rest of the matrix with alignment scores\n",
    "    for i in range(1, len(list1) + 1):\n",
    "        for j in range(1, len(list2) + 1):\n",
    "            match = matrix[i-1][j-1] + (1 if list1[i-1] == list2[j-1] else -1)\n",
    "            delete = matrix[i-1][j] - 1\n",
    "            insert = matrix[i][j-1] - 1\n",
    "            matrix[i][j] = max(match, delete, insert)\n",
    "    # Traceback to find the optimal alignment\n",
    "    aligned_lists = []\n",
    "    i, j = len(list1), len(list2)\n",
    "    while i > 0 or j > 0:\n",
    "        if i > 0 and j > 0 and matrix[i][j] == matrix[i-1][j-1] + (1 if list1[i-1] == list2[j-1] else -1):\n",
    "            aligned_lists.append([list1[i-1], list2[j-1]])\n",
    "            i -= 1\n",
    "            j -= 1\n",
    "        elif i > 0 and matrix[i][j] == matrix[i-1][j] - 1:\n",
    "            aligned_lists.append([list1[i-1], ''])\n",
    "            i -= 1\n",
    "        else:\n",
    "            aligned_lists.append(['', list2[j-1]])\n",
    "            j -= 1\n",
    "    return aligned_lists[::-1]"
   ]
  },
  {
   "attachments": {},
   "cell_type": "markdown",
   "metadata": {},
   "source": [
    "# Cleaning transcript, aligning with gold label, and writing to JSON"
   ]
  },
  {
   "cell_type": "code",
   "execution_count": 122,
   "metadata": {},
   "outputs": [],
   "source": [
    "folder_name = '20170207'\n",
    "asr_file_path = '..\\\\Data\\\\asr_generated\\\\20170207-095506-parallel-aihub.txt'\n",
    "json_file_path = f'..\\\\Data\\\\NPSC\\\\{folder_name}\\\\{folder_name}_sentence_data.json'\n",
    "\n",
    "transcript = load_transcript(asr_file_path)\n",
    "transcript = remove_time_stamps(transcript)\n",
    "transcript = replace_newlines(transcript)\n",
    "\n",
    "goldlabel = npsc_json_to_bigdoc(json_file_path)\n",
    "goldlabel = remove_words_in_angle_brackets(goldlabel)\n",
    "alignment = align_lists(split_string(transcript), split_string(goldlabel))\n"
   ]
  },
  {
   "cell_type": "code",
   "execution_count": 124,
   "metadata": {},
   "outputs": [],
   "source": [
    "write_to_json(alignment, f'..\\\\Data\\\\aligned\\\\{folder_name}_test_alignment.json')\n"
   ]
  }
 ],
 "metadata": {
  "kernelspec": {
   "display_name": "Python 3.9.6 64-bit",
   "language": "python",
   "name": "python3"
  },
  "language_info": {
   "codemirror_mode": {
    "name": "ipython",
    "version": 3
   },
   "file_extension": ".py",
   "mimetype": "text/x-python",
   "name": "python",
   "nbconvert_exporter": "python",
   "pygments_lexer": "ipython3",
   "version": "3.9.6"
  },
  "orig_nbformat": 4,
  "vscode": {
   "interpreter": {
    "hash": "8943561a3ff414a8cd96db279e20b39b359ac4895f55aff2809dddc7a4c6a548"
   }
  }
 },
 "nbformat": 4,
 "nbformat_minor": 2
}
